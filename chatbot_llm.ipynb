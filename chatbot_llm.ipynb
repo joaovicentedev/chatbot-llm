{
  "cells": [
    {
      "cell_type": "markdown",
      "source": [
        "# Chatbot com LangChain\n",
        "Um simples chatbot usando LangChain capaz de recuperar informações de documentos (.pdf) e usar memória da conversa.\n",
        "\n",
        "## Como utilizar\n",
        "Para utilizar o chatbot basta rodar todas as células. A última célula contém o chat.\n",
        "\n",
        "### Comentários\n",
        "- Foram utilizados modelos pequenos, então algumas respostas podem ser \"estranhas\".\n",
        "- Em razão das limitações de hardware, cada iteração do chat pode demorar cerca de 1 minuto para responder no Google Colab.\n"
      ],
      "metadata": {
        "id": "MdLs7TOktYP_"
      }
    },
    {
      "cell_type": "code",
      "execution_count": null,
      "metadata": {
        "id": "YusHk1FVoxEq"
      },
      "outputs": [],
      "source": [
        "!pip install langchain tiktoken chromadb==0.4.15 pypdf huggingface_hub transformers sentence_transformers ctransformers ctransformers[cuda]"
      ]
    },
    {
      "cell_type": "code",
      "execution_count": null,
      "metadata": {
        "id": "SQSz2faAkIaf"
      },
      "outputs": [],
      "source": [
        "!git clone https://github.com/FelipeVein/solinftec-teste-llm"
      ]
    },
    {
      "cell_type": "code",
      "execution_count": null,
      "metadata": {
        "id": "hNRuKB3Gj7G7"
      },
      "outputs": [],
      "source": [
        "from langchain.document_loaders import PyPDFLoader\n",
        "from langchain.text_splitter import RecursiveCharacterTextSplitter\n",
        "from langchain.embeddings import HuggingFaceEmbeddings\n",
        "from langchain.vectorstores import Chroma\n",
        "from langchain.memory import ConversationSummaryMemory\n",
        "from langchain.llms import CTransformers\n",
        "from langchain.chains import ConversationalRetrievalChain\n",
        "import glob\n",
        "import os"
      ]
    },
    {
      "cell_type": "code",
      "execution_count": null,
      "metadata": {
        "id": "_lBASPHaT6cL"
      },
      "outputs": [],
      "source": [
        "# load data and split in chunks\n",
        "data_path = '/content/solinftec-teste-llm/data'\n",
        "pdf_files = glob.glob(os.path.join(data_path, \"*.pdf\"))\n",
        "documents = []\n",
        "for pdf_file in pdf_files:\n",
        "  loader = PyPDFLoader(pdf_file)\n",
        "  documents.extend(loader.load())\n",
        "text_splitter = RecursiveCharacterTextSplitter(chunk_size=300, chunk_overlap=0)\n",
        "all_splits = text_splitter.split_documents(documents)"
      ]
    },
    {
      "cell_type": "code",
      "execution_count": null,
      "metadata": {
        "id": "hU-uUC08uDSM"
      },
      "outputs": [],
      "source": [
        "# load embedding model\n",
        "model_name = \"sentence-transformers/all-mpnet-base-v2\"\n",
        "model_kwargs = {'device': 'cuda'}\n",
        "encode_kwargs = {'normalize_embeddings': False}\n",
        "embedding_model = HuggingFaceEmbeddings(\n",
        "    model_name=model_name,\n",
        "    model_kwargs=model_kwargs,\n",
        "    encode_kwargs=encode_kwargs\n",
        ")"
      ]
    },
    {
      "cell_type": "code",
      "execution_count": null,
      "metadata": {
        "id": "42T364fi6Zkn"
      },
      "outputs": [],
      "source": [
        "# transform data chunks into vector embeddings and store\n",
        "vectorstore = Chroma.from_documents(documents=all_splits, embedding=embedding_model)"
      ]
    },
    {
      "cell_type": "code",
      "execution_count": null,
      "metadata": {
        "id": "5jxwG6nO1XX9"
      },
      "outputs": [],
      "source": [
        "# load large language model\n",
        "llm = CTransformers(model=\"TheBloke/Llama-2-7B-Chat-GGML\", config={\"gpu_layers\":50, \"context_length\":4096})"
      ]
    },
    {
      "cell_type": "code",
      "execution_count": null,
      "metadata": {
        "id": "06QVaTNE9bu8"
      },
      "outputs": [],
      "source": [
        "# memory component for chatbot\n",
        "memory = ConversationSummaryMemory(\n",
        "    llm=llm, memory_key=\"chat_history\", return_messages=True\n",
        ")\n",
        "retriever = vectorstore.as_retriever()"
      ]
    },
    {
      "cell_type": "code",
      "execution_count": null,
      "metadata": {
        "id": "TYuhhvrIl7RR"
      },
      "outputs": [],
      "source": [
        "class Chatbot:\n",
        "  def __init__(self, llm, retriever, memory):\n",
        "    self.chatbot = ConversationalRetrievalChain.from_llm(llm, retriever=retriever, memory=memory)\n",
        "  def run(self):\n",
        "    while(True):\n",
        "      question = input(\"You:\\n\")\n",
        "      chat_response = self.chatbot(question)\n",
        "      print(\"Bot:\" + chat_response['answer'])"
      ]
    },
    {
      "cell_type": "code",
      "execution_count": null,
      "metadata": {
        "id": "DpU4YWlaxkvF"
      },
      "outputs": [],
      "source": [
        "chatbot = Chatbot(llm, retriever, memory)"
      ]
    },
    {
      "cell_type": "code",
      "source": [
        "chatbot.run()"
      ],
      "metadata": {
        "id": "gBt_QUqGqWJH"
      },
      "execution_count": null,
      "outputs": []
    }
  ],
  "metadata": {
    "accelerator": "GPU",
    "colab": {
      "provenance": []
    },
    "kernelspec": {
      "display_name": "Python 3",
      "name": "python3"
    },
    "language_info": {
      "name": "python"
    }
  },
  "nbformat": 4,
  "nbformat_minor": 0
}